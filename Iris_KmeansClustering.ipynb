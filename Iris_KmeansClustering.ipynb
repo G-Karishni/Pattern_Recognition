{
  "nbformat": 4,
  "nbformat_minor": 0,
  "metadata": {
    "colab": {
      "name": "KmeansClustering.ipynb",
      "provenance": [],
      "authorship_tag": "ABX9TyN0GqSWbvC/vIFRhjHZREHS",
      "include_colab_link": true
    },
    "kernelspec": {
      "name": "python3",
      "display_name": "Python 3"
    },
    "language_info": {
      "name": "python"
    }
  },
  "cells": [
    {
      "cell_type": "markdown",
      "metadata": {
        "id": "view-in-github",
        "colab_type": "text"
      },
      "source": [
        "<a href=\"https://colab.research.google.com/github/G-Karishni/Pattern_Recognition/blob/main/Iris_KmeansClustering.ipynb\" target=\"_parent\"><img src=\"https://colab.research.google.com/assets/colab-badge.svg\" alt=\"Open In Colab\"/></a>"
      ]
    },
    {
      "cell_type": "markdown",
      "metadata": {
        "id": "IZ-8h4jzeU0z"
      },
      "source": [
        "# K Means Clustering - Unsupervised learning"
      ]
    },
    {
      "cell_type": "code",
      "metadata": {
        "id": "k7DTOMapwIAL"
      },
      "source": [
        "#importing the libraries\n",
        "import numpy as np\n",
        "import matplotlib.pyplot as plt\n",
        "import pandas as pd"
      ],
      "execution_count": 43,
      "outputs": []
    },
    {
      "cell_type": "markdown",
      "metadata": {
        "id": "N_Cda6-HegGZ"
      },
      "source": [
        "Upload label-less dataset"
      ]
    },
    {
      "cell_type": "code",
      "metadata": {
        "id": "vxkNOpt0wR7I"
      },
      "source": [
        "dataset = pd.read_csv('https://raw.githubusercontent.com/G-Karishni/Pattern_Recognition/main/Iris_label-less.csv')\n",
        "x = dataset.iloc[:, [1, 2, 3, 4]].values"
      ],
      "execution_count": 44,
      "outputs": []
    },
    {
      "cell_type": "markdown",
      "metadata": {
        "id": "mKRsDKWqemDB"
      },
      "source": [
        "Plotting WCSS (Within Cluster Sum of Square)"
      ]
    },
    {
      "cell_type": "code",
      "metadata": {
        "colab": {
          "base_uri": "https://localhost:8080/",
          "height": 295
        },
        "id": "TkoO5pHLwzBq",
        "outputId": "86ca93ee-ab24-4203-9a64-f76070367c68"
      },
      "source": [
        "from sklearn.cluster import KMeans\n",
        "wcss = []\n",
        "\n",
        "for i in range(1, 11):\n",
        "    kmeans = KMeans(n_clusters = i, init = 'k-means++', max_iter = 300, n_init = 10, random_state = 0)\n",
        "    kmeans.fit(x)\n",
        "    wcss.append(kmeans.inertia_)\n",
        "    \n",
        "#Plotting the results onto a line graph, allowing us to observe 'The elbow'\n",
        "plt.plot(range(1, 11), wcss)\n",
        "plt.title('The elbow method')\n",
        "plt.xlabel('Number of clusters')\n",
        "plt.ylabel('WCSS') #within cluster sum of squares\n",
        "plt.show()"
      ],
      "execution_count": 45,
      "outputs": [
        {
          "output_type": "display_data",
          "data": {
            "image/png": "[encoded data removed]",
            "text/plain": [
              "<Figure size 432x288 with 1 Axes>"
            ]
          },
          "metadata": {
            "needs_background": "light"
          }
        }
      ]
    },
    {
      "cell_type": "markdown",
      "metadata": {
        "id": "ABNWThtpe25j"
      },
      "source": [
        "From the above graph we can observe that from K=3 the elbow graph drops dastically. Hence, K=3 is the most optimal value."
      ]
    },
    {
      "cell_type": "code",
      "metadata": {
        "id": "E7zVy_CUyjNB"
      },
      "source": [
        "#Applying kmeans to the dataset / Creating the kmeans classifier\n",
        "kmeans = KMeans(n_clusters = 2, init = 'k-means++', max_iter = 300, n_init = 10, random_state = 0)\n",
        "y_kmeans = kmeans.fit_predict(x)"
      ],
      "execution_count": 46,
      "outputs": []
    },
    {
      "cell_type": "markdown",
      "metadata": {
        "id": "Cm1jH_kHfGl5"
      },
      "source": [
        "Scatter plotting for K=2"
      ]
    },
    {
      "cell_type": "code",
      "metadata": {
        "colab": {
          "base_uri": "https://localhost:8080/",
          "height": 285
        },
        "id": "tty837YfymnY",
        "outputId": "b2259e65-ef6f-4ea5-aa5e-a3775fbfcf2b"
      },
      "source": [
        "#Visualising the clusters\n",
        "plt.scatter(x[y_kmeans == 0, 0], x[y_kmeans == 0, 1], s = 100, c = 'red', label = 'Iris-setosa')\n",
        "plt.scatter(x[y_kmeans == 1, 0], x[y_kmeans == 1, 1], s = 100, c = 'blue', label = 'Iris-versicolour')\n",
        "plt.scatter(x[y_kmeans == 2, 0], x[y_kmeans == 2, 1], s = 100, c = 'green', label = 'Iris-virginica')\n",
        "\n",
        "#Plotting the centroids of the clusters\n",
        "plt.scatter(kmeans.cluster_centers_[:, 0], kmeans.cluster_centers_[:,1], s = 100, c = 'yellow', label = 'Centroids')\n",
        "\n",
        "plt.legend()"
      ],
      "execution_count": 47,
      "outputs": [
        {
          "output_type": "execute_result",
          "data": {
            "text/plain": [
              "<matplotlib.legend.Legend at 0x7efed9510250>"
            ]
          },
          "metadata": {},
          "execution_count": 47
        },
        {
          "output_type": "display_data",
          "data": {
            "image/png": "[encoded data removed]",
            "text/plain": [
              "<Figure size 432x288 with 1 Axes>"
            ]
          },
          "metadata": {
            "needs_background": "light"
          }
        }
      ]
    },
    {
      "cell_type": "code",
      "metadata": {
        "id": "Uaebx4UU4n59"
      },
      "source": [
        "#Applying kmeans to the dataset / Creating the kmeans classifier\n",
        "kmeans = KMeans(n_clusters = 3, init = 'k-means++', max_iter = 300, n_init = 10, random_state = 0)\n",
        "y_kmeans = kmeans.fit_predict(x)"
      ],
      "execution_count": 48,
      "outputs": []
    },
    {
      "cell_type": "markdown",
      "metadata": {
        "id": "59BjRfSVfMCf"
      },
      "source": [
        "Scatter plotting for K=3"
      ]
    },
    {
      "cell_type": "code",
      "metadata": {
        "id": "25ZMVLjz4uD4",
        "colab": {
          "base_uri": "https://localhost:8080/",
          "height": 285
        },
        "outputId": "1e24d568-ee28-4873-9131-182ad896e4f4"
      },
      "source": [
        "#Visualising the clusters\n",
        "plt.scatter(x[y_kmeans == 0, 0], x[y_kmeans == 0, 1], s = 100, c = 'red', label = 'Iris-setosa')\n",
        "plt.scatter(x[y_kmeans == 1, 0], x[y_kmeans == 1, 1], s = 100, c = 'blue', label = 'Iris-versicolour')\n",
        "plt.scatter(x[y_kmeans == 2, 0], x[y_kmeans == 2, 1], s = 100, c = 'green', label = 'Iris-virginica')\n",
        "\n",
        "#Plotting the centroids of the clusters\n",
        "plt.scatter(kmeans.cluster_centers_[:, 0], kmeans.cluster_centers_[:,1], s = 100, c = 'yellow', label = 'Centroids')\n",
        "\n",
        "plt.legend()"
      ],
      "execution_count": 49,
      "outputs": [
        {
          "output_type": "execute_result",
          "data": {
            "text/plain": [
              "<matplotlib.legend.Legend at 0x7efedaa98c10>"
            ]
          },
          "metadata": {},
          "execution_count": 49
        },
        {
          "output_type": "display_data",
          "data": {
            "image/png": "[encoded data removed]",
            "text/plain": [
              "<Figure size 432x288 with 1 Axes>"
            ]
          },
          "metadata": {
            "needs_background": "light"
          }
        }
      ]
    },
    {
      "cell_type": "code",
      "metadata": {
        "id": "DCeSLrG_4o9g"
      },
      "source": [
        "#Applying kmeans to the dataset / Creating the kmeans classifier\n",
        "kmeans = KMeans(n_clusters = 4, init = 'k-means++', max_iter = 300, n_init = 10, random_state = 0)\n",
        "y_kmeans = kmeans.fit_predict(x)"
      ],
      "execution_count": 50,
      "outputs": []
    },
    {
      "cell_type": "markdown",
      "metadata": {
        "id": "fC5aYXjTfRxx"
      },
      "source": [
        "Scatter plotting for K=4"
      ]
    },
    {
      "cell_type": "code",
      "metadata": {
        "id": "dk-6RfmN4vNG",
        "colab": {
          "base_uri": "https://localhost:8080/",
          "height": 285
        },
        "outputId": "dd0dfee5-da31-4642-b658-d587e68e4a42"
      },
      "source": [
        "#Visualising the clusters\n",
        "plt.scatter(x[y_kmeans == 0, 0], x[y_kmeans == 0, 1], s = 100, c = 'red', label = 'Iris-setosa')\n",
        "plt.scatter(x[y_kmeans == 1, 0], x[y_kmeans == 1, 1], s = 100, c = 'blue', label = 'Iris-versicolour')\n",
        "plt.scatter(x[y_kmeans == 2, 0], x[y_kmeans == 2, 1], s = 100, c = 'green', label = 'Iris-virginica')\n",
        "\n",
        "#Plotting the centroids of the clusters\n",
        "plt.scatter(kmeans.cluster_centers_[:, 0], kmeans.cluster_centers_[:,1], s = 100, c = 'yellow', label = 'Centroids')\n",
        "\n",
        "plt.legend()"
      ],
      "execution_count": 51,
      "outputs": [
        {
          "output_type": "execute_result",
          "data": {
            "text/plain": [
              "<matplotlib.legend.Legend at 0x7efed92f7bd0>"
            ]
          },
          "metadata": {},
          "execution_count": 51
        },
        {
          "output_type": "display_data",
          "data": {
            "image/png": "[encoded data removed]",
            "text/plain": [
              "<Figure size 432x288 with 1 Axes>"
            ]
          },
          "metadata": {
            "needs_background": "light"
          }
        }
      ]
    },
    {
      "cell_type": "markdown",
      "metadata": {
        "id": "Gdsq16hti5_x"
      },
      "source": [
        "#Model evaluation "
      ]
    },
    {
      "cell_type": "code",
      "metadata": {
        "id": "QZkL-5AKjOju"
      },
      "source": [
        "from sklearn import datasets\n",
        "from sklearn.cluster import KMeans\n",
        "# Load IRIS dataset\n",
        "iris = datasets.load_iris()\n",
        "X = iris.data\n",
        "y = iris.target"
      ],
      "execution_count": 52,
      "outputs": []
    },
    {
      "cell_type": "markdown",
      "metadata": {
        "id": "I8xrDaCRjJ3Z"
      },
      "source": [
        "Silhouetter Score for K=1"
      ]
    },
    {
      "cell_type": "code",
      "metadata": {
        "colab": {
          "base_uri": "https://localhost:8080/"
        },
        "id": "s0r0Bo4PjIRi",
        "outputId": "9f37befe-79dc-431b-b7f3-0699e6315f49"
      },
      "source": [
        "# Instantiate the KMeans models\n",
        "km = KMeans(n_clusters = 2, random_state = 42)\n",
        "# Fit the KMeans model\n",
        "km.fit_predict(X)\n",
        "# Calculate Silhoutte Score\n",
        "score = silhouette_score(X, km.labels_, metric = 'euclidean')\n",
        "# Print the score\n",
        "print('Silhouetter Score: %.3f' % score)"
      ],
      "execution_count": 53,
      "outputs": [
        {
          "output_type": "stream",
          "name": "stdout",
          "text": [
            "Silhouetter Score: 0.681\n"
          ]
        }
      ]
    },
    {
      "cell_type": "markdown",
      "metadata": {
        "id": "DCiIzC81i8te"
      },
      "source": [
        "Silhouetter Score for K=2"
      ]
    },
    {
      "cell_type": "code",
      "metadata": {
        "colab": {
          "base_uri": "https://localhost:8080/"
        },
        "id": "W_8CCfc9i-IG",
        "outputId": "68e578e0-995d-44d5-b244-7808a4d3d0d8"
      },
      "source": [
        "km = KMeans(n_clusters = 2, random_state = 42)\n",
        "# Fit the KMeans model\n",
        "km.fit_predict(X)\n",
        "# Calculate Silhoutte Score\n",
        "score = silhouette_score(X, km.labels_, metric = 'euclidean')\n",
        "# Print the score\n",
        "print('Silhouetter Score: %.3f' % score)"
      ],
      "execution_count": 54,
      "outputs": [
        {
          "output_type": "stream",
          "name": "stdout",
          "text": [
            "Silhouetter Score: 0.681\n"
          ]
        }
      ]
    },
    {
      "cell_type": "markdown",
      "metadata": {
        "id": "3lVae8Tti_2Y"
      },
      "source": [
        "Silhouetter Score for K=3"
      ]
    },
    {
      "cell_type": "code",
      "metadata": {
        "colab": {
          "base_uri": "https://localhost:8080/"
        },
        "id": "Hp8VaI4mjAcR",
        "outputId": "25e19218-b68a-4a02-c44a-5f04fc3d6a48"
      },
      "source": [
        "km = KMeans(n_clusters = 3, random_state = 42)\n",
        "# Fit the KMeans model\n",
        "km.fit_predict(X)\n",
        "# Calculate Silhoutte Score\n",
        "score = silhouette_score(X, km.labels_, metric = 'euclidean')\n",
        "# Print the score\n",
        "print('Silhouetter Score: %.3f' % score)"
      ],
      "execution_count": 55,
      "outputs": [
        {
          "output_type": "stream",
          "name": "stdout",
          "text": [
            "Silhouetter Score: 0.553\n"
          ]
        }
      ]
    },
    {
      "cell_type": "markdown",
      "metadata": {
        "id": "2sDf-HXsimEW"
      },
      "source": [
        "Silhouetter Score for K=4"
      ]
    },
    {
      "cell_type": "code",
      "metadata": {
        "colab": {
          "base_uri": "https://localhost:8080/"
        },
        "id": "yR5fzYcuh5U3",
        "outputId": "c2bded8d-8025-4602-adbf-bb4660faf5f5"
      },
      "source": [
        "km = KMeans(n_clusters = 4, random_state = 42)\n",
        "# Fit the KMeans model\n",
        "km.fit_predict(X)\n",
        "# Calculate Silhoutte Score\n",
        "score = silhouette_score(X, km.labels_, metric = 'euclidean')\n",
        "# Print the score\n",
        "print('Silhouetter Score: %.3f' % score)"
      ],
      "execution_count": 56,
      "outputs": [
        {
          "output_type": "stream",
          "name": "stdout",
          "text": [
            "Silhouetter Score: 0.498\n"
          ]
        }
      ]
    },
    {
      "cell_type": "markdown",
      "metadata": {
        "id": "iQvYvnl9ke5Y"
      },
      "source": [
        "*   1: Means clusters are well apart from each other and clearly distinguished\n",
        "*   0: Means clusters are indifferent, or we can say that the distance between clusters is not significant.\n",
        "*   -1: Means clusters are assigned in the wrong way."
      ]
    },
    {
      "cell_type": "markdown",
      "metadata": {
        "id": "o6qzAGuekoSc"
      },
      "source": [
        "*For K=2, it has the score closest to 1 and clusters are well apart from each other and clearly distinguished*"
      ]
    }
  ]
}